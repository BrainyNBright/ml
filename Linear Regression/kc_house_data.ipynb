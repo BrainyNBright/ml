{
  "nbformat": 4,
  "nbformat_minor": 0,
  "metadata": {
    "colab": {
      "name": "Untitled2.ipynb",
      "provenance": []
    },
    "kernelspec": {
      "name": "python3",
      "display_name": "Python 3"
    }
  },
  "cells": [
    {
      "cell_type": "code",
      "metadata": {
        "id": "Lg3tIWI5w9T-",
        "colab_type": "code",
        "colab": {}
      },
      "source": [
        "import matplotlib.pyplot as plt\n",
        "import numpy as np\n",
        "import pandas as pd\n",
        "from sklearn import *"
      ],
      "execution_count": 33,
      "outputs": []
    },
    {
      "cell_type": "code",
      "metadata": {
        "id": "tpeNV0hny9xK",
        "colab_type": "code",
        "colab": {
          "base_uri": "https://localhost:8080/",
          "height": 104
        },
        "outputId": "7ac5b2bf-40d9-4ea7-f931-cec9aefbe18c"
      },
      "source": [
        "#load data\n",
        "data=pd.read_csv('kc_house_data.csv')\n",
        "data.columns"
      ],
      "execution_count": 4,
      "outputs": [
        {
          "output_type": "execute_result",
          "data": {
            "text/plain": [
              "Index(['id', 'date', 'price', 'bedrooms', 'bathrooms', 'sqft_living',\n",
              "       'sqft_lot', 'floors', 'waterfront', 'view', 'condition', 'grade',\n",
              "       'sqft_above', 'sqft_basement', 'yr_built', 'yr_renovated', 'zipcode',\n",
              "       'lat', 'long', 'sqft_living15', 'sqft_lot15'],\n",
              "      dtype='object')"
            ]
          },
          "metadata": {
            "tags": []
          },
          "execution_count": 4
        }
      ]
    },
    {
      "cell_type": "code",
      "metadata": {
        "id": "UbB1mXaBzNxV",
        "colab_type": "code",
        "colab": {
          "base_uri": "https://localhost:8080/",
          "height": 139
        },
        "outputId": "f6e8d94a-08ee-4ac0-a2fd-5444c23955b5"
      },
      "source": [
        "#independent variable\n",
        "x=data.loc[:,'sqft_living']\n",
        "x=np.array(x)\n",
        "x=x.reshape(-1,1)\n",
        "print(x)"
      ],
      "execution_count": 9,
      "outputs": [
        {
          "output_type": "stream",
          "text": [
            "[[1180]\n",
            " [2570]\n",
            " [ 770]\n",
            " ...\n",
            " [1020]\n",
            " [1600]\n",
            " [1020]]\n"
          ],
          "name": "stdout"
        }
      ]
    },
    {
      "cell_type": "code",
      "metadata": {
        "id": "24crVhqmz8oV",
        "colab_type": "code",
        "colab": {
          "base_uri": "https://localhost:8080/",
          "height": 225
        },
        "outputId": "ac6c9348-27ce-4302-c1f8-2de1e1680457"
      },
      "source": [
        "#dependent variable\n",
        "y=data.loc[:,'price']\n",
        "print(y)"
      ],
      "execution_count": 10,
      "outputs": [
        {
          "output_type": "stream",
          "text": [
            "0        221900.0\n",
            "1        538000.0\n",
            "2        180000.0\n",
            "3        604000.0\n",
            "4        510000.0\n",
            "           ...   \n",
            "21608    360000.0\n",
            "21609    400000.0\n",
            "21610    402101.0\n",
            "21611    400000.0\n",
            "21612    325000.0\n",
            "Name: price, Length: 21613, dtype: float64\n"
          ],
          "name": "stdout"
        }
      ]
    },
    {
      "cell_type": "code",
      "metadata": {
        "id": "hIhVOcPd0XSm",
        "colab_type": "code",
        "colab": {}
      },
      "source": [
        "#split train - test data\n",
        "x_train,x_test,y_train,y_test=model_selection.train_test_split(x,y,train_size=0.8,random_state=1)"
      ],
      "execution_count": 14,
      "outputs": []
    },
    {
      "cell_type": "code",
      "metadata": {
        "id": "VEC5JDr70-3P",
        "colab_type": "code",
        "colab": {
          "base_uri": "https://localhost:8080/",
          "height": 35
        },
        "outputId": "e99e2e57-6d54-4a8d-b6a5-06e6e0dfe9dc"
      },
      "source": [
        "#train model\n",
        "regr=linear_model.LinearRegression()\n",
        "regr.fit(x_train,y_train)"
      ],
      "execution_count": 18,
      "outputs": [
        {
          "output_type": "execute_result",
          "data": {
            "text/plain": [
              "LinearRegression(copy_X=True, fit_intercept=True, n_jobs=None, normalize=False)"
            ]
          },
          "metadata": {
            "tags": []
          },
          "execution_count": 18
        }
      ]
    },
    {
      "cell_type": "code",
      "metadata": {
        "id": "GWf1S3x32GzT",
        "colab_type": "code",
        "colab": {
          "base_uri": "https://localhost:8080/",
          "height": 52
        },
        "outputId": "c6dee230-21b6-4555-e07c-4e2bad5c75da"
      },
      "source": [
        "#test model\n",
        "y_pred=regr.predict(x_test)\n",
        "print(y_pred)"
      ],
      "execution_count": 20,
      "outputs": [
        {
          "output_type": "stream",
          "text": [
            "[ 733776.4919685   416143.19106732  618771.33129738 ...  449001.80840193\n",
            " 1412854.58355033  380546.3556215 ]\n"
          ],
          "name": "stdout"
        }
      ]
    },
    {
      "cell_type": "code",
      "metadata": {
        "id": "3MER5YBI2eKo",
        "colab_type": "code",
        "colab": {
          "base_uri": "https://localhost:8080/",
          "height": 269
        },
        "outputId": "97e30e7d-4648-4900-9b93-ac341715bf62"
      },
      "source": [
        "# graphs\n",
        "plt.scatter(x_test,y_test,color='orange')\n",
        "plt.plot(x_test,y_pred,color='blue',linewidth=3)\n",
        "plt.xticks(())\n",
        "plt.yticks(())"
      ],
      "execution_count": 22,
      "outputs": [
        {
          "output_type": "execute_result",
          "data": {
            "text/plain": [
              "([], <a list of 0 Text major ticklabel objects>)"
            ]
          },
          "metadata": {
            "tags": []
          },
          "execution_count": 22
        },
        {
          "output_type": "display_data",
          "data": {
            "image/png": "[encoded data removed]",
            "text/plain": [
              "<Figure size 432x288 with 1 Axes>"
            ]
          },
          "metadata": {
            "tags": []
          }
        }
      ]
    },
    {
      "cell_type": "code",
      "metadata": {
        "id": "WBbZlhmT2tAh",
        "colab_type": "code",
        "colab": {
          "base_uri": "https://localhost:8080/",
          "height": 52
        },
        "outputId": "42de3205-030c-4513-b965-5b47c560fbf6"
      },
      "source": [
        "#mse r2score\n",
        "mse=metrics.mean_squared_error(y_test,y_pred)\n",
        "rscore=metrics.r2_score(y_test,y_pred)\n",
        "print('mse: {}\\nr2 score: {}'.format(mse,rscore) )"
      ],
      "execution_count": 32,
      "outputs": [
        {
          "output_type": "stream",
          "text": [
            "mse: 85730574276.16481\n",
            "r2 score: 0.5033019006466926\n"
          ],
          "name": "stdout"
        }
      ]
    }
  ]
}
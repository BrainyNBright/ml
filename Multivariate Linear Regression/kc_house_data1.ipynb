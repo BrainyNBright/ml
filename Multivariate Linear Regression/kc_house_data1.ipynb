{
  "nbformat": 4,
  "nbformat_minor": 0,
  "metadata": {
    "colab": {
      "name": "Untitled2.ipynb",
      "provenance": []
    },
    "kernelspec": {
      "name": "python3",
      "display_name": "Python 3"
    }
  },
  "cells": [
    {
      "cell_type": "code",
      "metadata": {
        "id": "Lg3tIWI5w9T-",
        "colab_type": "code",
        "colab": {}
      },
      "source": [
        "import matplotlib.pyplot as plt\n",
        "import numpy as np\n",
        "import pandas as pd\n",
        "from sklearn import *"
      ],
      "execution_count": 2,
      "outputs": []
    },
    {
      "cell_type": "code",
      "metadata": {
        "id": "tpeNV0hny9xK",
        "colab_type": "code",
        "colab": {
          "base_uri": "https://localhost:8080/",
          "height": 493
        },
        "outputId": "2bb8d115-1da3-419f-b18d-d5bf071ba978"
      },
      "source": [
        "#load data\n",
        "data=pd.read_csv('kc_house_data.csv')\n",
        "\"\"\"pd.set_option('display.max_rows', None)\n",
        "pd.set_option('display.max_columns', None)\"\"\"\n",
        "print(data.head())\n",
        "data.columns\n",
        "data.shape"
      ],
      "execution_count": 13,
      "outputs": [
        {
          "output_type": "stream",
          "text": [
            "           id             date     price  bedrooms  bathrooms  sqft_living  \\\n",
            "0  7129300520  20141013T000000  221900.0         3       1.00         1180   \n",
            "1  6414100192  20141209T000000  538000.0         3       2.25         2570   \n",
            "2  5631500400  20150225T000000  180000.0         2       1.00          770   \n",
            "3  2487200875  20141209T000000  604000.0         4       3.00         1960   \n",
            "4  1954400510  20150218T000000  510000.0         3       2.00         1680   \n",
            "\n",
            "   sqft_lot  floors  waterfront  view  condition  grade  sqft_above  \\\n",
            "0      5650     1.0           0     0          3      7        1180   \n",
            "1      7242     2.0           0     0          3      7        2170   \n",
            "2     10000     1.0           0     0          3      6         770   \n",
            "3      5000     1.0           0     0          5      7        1050   \n",
            "4      8080     1.0           0     0          3      8        1680   \n",
            "\n",
            "   sqft_basement  yr_built  yr_renovated  zipcode      lat     long  \\\n",
            "0              0      1955             0    98178  47.5112 -122.257   \n",
            "1            400      1951          1991    98125  47.7210 -122.319   \n",
            "2              0      1933             0    98028  47.7379 -122.233   \n",
            "3            910      1965             0    98136  47.5208 -122.393   \n",
            "4              0      1987             0    98074  47.6168 -122.045   \n",
            "\n",
            "   sqft_living15  sqft_lot15  \n",
            "0           1340        5650  \n",
            "1           1690        7639  \n",
            "2           2720        8062  \n",
            "3           1360        5000  \n",
            "4           1800        7503  \n"
          ],
          "name": "stdout"
        },
        {
          "output_type": "execute_result",
          "data": {
            "text/plain": [
              "(21613, 21)"
            ]
          },
          "metadata": {
            "tags": []
          },
          "execution_count": 13
        }
      ]
    },
    {
      "cell_type": "code",
      "metadata": {
        "id": "UbB1mXaBzNxV",
        "colab_type": "code",
        "colab": {}
      },
      "source": [
        "#independent variable\n",
        "x=data[['bedrooms','sqft_living','sqft_lot', 'sqft_above', 'sqft_basement','sqft_living15', 'sqft_lot15']]"
      ],
      "execution_count": 33,
      "outputs": []
    },
    {
      "cell_type": "code",
      "metadata": {
        "id": "24crVhqmz8oV",
        "colab_type": "code",
        "colab": {}
      },
      "source": [
        "#dependent variable\n",
        "y=data.loc[:,'price']"
      ],
      "execution_count": 34,
      "outputs": []
    },
    {
      "cell_type": "code",
      "metadata": {
        "id": "hIhVOcPd0XSm",
        "colab_type": "code",
        "colab": {}
      },
      "source": [
        "#split train - test data\n",
        "x_train,x_test,y_train,y_test=model_selection.train_test_split(x,y,train_size=0.8,random_state=1)"
      ],
      "execution_count": 24,
      "outputs": []
    },
    {
      "cell_type": "code",
      "metadata": {
        "id": "VEC5JDr70-3P",
        "colab_type": "code",
        "colab": {
          "base_uri": "https://localhost:8080/",
          "height": 34
        },
        "outputId": "af0aff3a-69e1-44ef-b320-86468218f1a6"
      },
      "source": [
        "#train model\n",
        "regr=linear_model.LinearRegression()\n",
        "regr.fit(x_train,y_train)"
      ],
      "execution_count": 25,
      "outputs": [
        {
          "output_type": "execute_result",
          "data": {
            "text/plain": [
              "LinearRegression(copy_X=True, fit_intercept=True, n_jobs=None, normalize=False)"
            ]
          },
          "metadata": {
            "tags": []
          },
          "execution_count": 25
        }
      ]
    },
    {
      "cell_type": "code",
      "metadata": {
        "id": "GWf1S3x32GzT",
        "colab_type": "code",
        "colab": {
          "base_uri": "https://localhost:8080/",
          "height": 51
        },
        "outputId": "09f57549-d476-441a-8a4c-85502e05105e"
      },
      "source": [
        "#test model\n",
        "y_pred=regr.predict(x_test)\n",
        "print(y_pred)"
      ],
      "execution_count": 26,
      "outputs": [
        {
          "output_type": "stream",
          "text": [
            "[ 749947.42895933  420471.96390572  704354.37925161 ...  453974.92769464\n",
            " 1432501.22278731  380410.8882847 ]\n"
          ],
          "name": "stdout"
        }
      ]
    },
    {
      "cell_type": "code",
      "metadata": {
        "id": "3MER5YBI2eKo",
        "colab_type": "code",
        "colab": {
          "base_uri": "https://localhost:8080/",
          "height": 269
        },
        "outputId": "77c0e7c3-f6af-455e-ba45-783ff4663ac9"
      },
      "source": [
        "# graphs\n",
        "plt.scatter(x_test['bedrooms'],y_test,color='orange')\n",
        "plt.scatter(x_test['bedrooms'],y_pred,color='blue')\n",
        "plt.xticks(())\n",
        "plt.yticks(())"
      ],
      "execution_count": 31,
      "outputs": [
        {
          "output_type": "execute_result",
          "data": {
            "text/plain": [
              "([], <a list of 0 Text major ticklabel objects>)"
            ]
          },
          "metadata": {
            "tags": []
          },
          "execution_count": 31
        },
        {
          "output_type": "display_data",
          "data": {
            "image/png": "[encoded data removed]",
            "text/plain": [
              "<Figure size 432x288 with 1 Axes>"
            ]
          },
          "metadata": {
            "tags": []
          }
        }
      ]
    },
    {
      "cell_type": "code",
      "metadata": {
        "id": "WBbZlhmT2tAh",
        "colab_type": "code",
        "colab": {
          "base_uri": "https://localhost:8080/",
          "height": 51
        },
        "outputId": "e452b52c-4d42-4075-f1c8-a4df778f4d0c"
      },
      "source": [
        "#mse r2score\n",
        "mse=metrics.mean_squared_error(y_test,y_pred)\n",
        "rscore=metrics.r2_score(y_test,y_pred)\n",
        "print('mse: {}\\nr2 score: {}'.format(mse,rscore) )"
      ],
      "execution_count": 32,
      "outputs": [
        {
          "output_type": "stream",
          "text": [
            "mse: 81325660221.79002\n",
            "r2 score: 0.5288226959649963\n"
          ],
          "name": "stdout"
        }
      ]
    }
  ]
}
